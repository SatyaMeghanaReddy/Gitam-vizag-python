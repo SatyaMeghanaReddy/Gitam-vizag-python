{
 "cells": [
  {
   "cell_type": "markdown",
   "metadata": {},
   "source": [
    "## Control Statements\n",
    "- Conditional Statements or selection statements\n",
    "     - if-else \n",
    "- Iteration Statements or Loop Statements\n",
    "    - while\n",
    "    - for"
   ]
  },
  {
   "cell_type": "code",
   "execution_count": 2,
   "metadata": {},
   "outputs": [
    {
     "name": "stdout",
     "output_type": "stream",
     "text": [
      " 2020\n",
      "Leap year\n"
     ]
    }
   ],
   "source": [
    "#Check the input is leap year or not\n",
    "year = int(input(' '))\n",
    "if  year % 400 ==  0 or (year % 100 !=0 and year % 4 ==0):\n",
    "    print('Leap year')\n",
    "else:\n",
    "    print('Not a leap year')"
   ]
  },
  {
   "cell_type": "markdown",
   "metadata": {},
   "source": [
    "### While Loop"
   ]
  },
  {
   "cell_type": "code",
   "execution_count": 3,
   "metadata": {},
   "outputs": [],
   "source": [
    "#print numbers from 1 to N\n",
    "#Input :10\n",
    "#Output:1,2 ,.....N\n"
   ]
  },
  {
   "cell_type": "code",
   "execution_count": 4,
   "metadata": {},
   "outputs": [
    {
     "name": "stdout",
     "output_type": "stream",
     "text": [
      "Enter the number5\n",
      "1 2 3 4 5 "
     ]
    }
   ],
   "source": [
    "n=int(input('Enter the number'))\n",
    "i=1\n",
    "while i<= n:\n",
    "    print(i,end=\" \")\n",
    "    i=i+1"
   ]
  },
  {
   "cell_type": "code",
   "execution_count": null,
   "metadata": {},
   "outputs": [],
   "source": [
    "# Read number as an input\n",
    "#Print output as even numbers from 1 to 10\n",
    "        #input: 10\n",
    "       #output: 30 (2+4+6+8+10)"
   ]
  },
  {
   "cell_type": "code",
   "execution_count": 6,
   "metadata": {},
   "outputs": [
    {
     "name": "stdout",
     "output_type": "stream",
     "text": [
      "Enter10\n",
      "30\n"
     ]
    }
   ],
   "source": [
    "n=int(input('Enter'))\n",
    "i=1\n",
    "s=0\n",
    "while i<= n:\n",
    "    if  i % 2==0:\n",
    "        s = s+i\n",
    "    i=i+1\n",
    "print(s)"
   ]
  },
  {
   "cell_type": "code",
   "execution_count": null,
   "metadata": {},
   "outputs": [],
   "source": [
    "#Read the number as input\n",
    "#output be digits of the number\n",
    "  \n",
    "    #Input: 123\n",
    "    #Output: 3 2 1 "
   ]
  },
  {
   "cell_type": "code",
   "execution_count": 7,
   "metadata": {},
   "outputs": [
    {
     "name": "stdout",
     "output_type": "stream",
     "text": [
      "Enter156\n",
      "6 5 1 "
     ]
    }
   ],
   "source": [
    "n = int(input(\"Enter\"))\n",
    "while n!=0:\n",
    "    print(n%10, end=' ')\n",
    "    n=n // 10"
   ]
  },
  {
   "cell_type": "markdown",
   "metadata": {},
   "source": [
    "### Functional Programming\n",
    "- Simple\n",
    "- Easy to understand\n",
    "- Better Reusability\n",
    "- Lenghty pogram will be divided into Sub Programs"
   ]
  },
  {
   "cell_type": "code",
   "execution_count": null,
   "metadata": {},
   "outputs": [],
   "source": [
    "def nameoftheFunction(<parameters>):\n",
    "    statements\n",
    "    return "
   ]
  },
  {
   "cell_type": "code",
   "execution_count": 13,
   "metadata": {},
   "outputs": [],
   "source": [
    "#Read a number\n",
    "#Print the even digit  sum for the number\n",
    "\n",
    "    #input: 1234\n",
    "    #output:6(2+4)"
   ]
  },
  {
   "cell_type": "code",
   "execution_count": 12,
   "metadata": {},
   "outputs": [
    {
     "data": {
      "text/plain": [
       "6"
      ]
     },
     "execution_count": 12,
     "metadata": {},
     "output_type": "execute_result"
    }
   ],
   "source": [
    "def evenDigitSum(n):\n",
    "    s = 0\n",
    "    while  n != 0:\n",
    "        r= n %10\n",
    "        if  r%2==0:\n",
    "            s = s+r\n",
    "        n = n//10\n",
    "    return s\n",
    "\n",
    "evenDigitSum(1234)"
   ]
  },
  {
   "cell_type": "code",
   "execution_count": 2,
   "metadata": {},
   "outputs": [
    {
     "data": {
      "text/plain": [
       "9"
      ]
     },
     "execution_count": 2,
     "metadata": {},
     "output_type": "execute_result"
    }
   ],
   "source": [
    "# Input 19345\n",
    "#Output :9 (Large digit of the given number)\n",
    "#Fun tional Programming\n",
    "\n",
    "def  largeDigit(n):\n",
    "    s=0\n",
    "    while n !=0:\n",
    "        r =n % 10\n",
    "        if  s < n :\n",
    "            s = r\n",
    "        n = n //10\n",
    "    return s\n",
    "largeDigit(195353)\n"
   ]
  },
  {
   "cell_type": "code",
   "execution_count": null,
   "metadata": {},
   "outputs": [],
   "source": [
    "#Read a number as input\n",
    "#Output yes or no\n",
    "\n",
    "#input :145\n",
    "#Output:yes\n",
    "\n",
    "#Input:123\n",
    "#Output:No\n",
    "\n",
    "\n",
    "#individual Digit Factorial Sum is same as input number"
   ]
  },
  {
   "cell_type": "code",
   "execution_count": 2,
   "metadata": {},
   "outputs": [
    {
     "name": "stdout",
     "output_type": "stream",
     "text": [
      "yes\n",
      "No\n"
     ]
    }
   ],
   "source": [
    "def fact(n):\n",
    "    f=1\n",
    "    i=1\n",
    "    while i<= n:\n",
    "        f = f * i\n",
    "        i=i+1\n",
    "    return f\n",
    "\n",
    "\n",
    "\n",
    "def   digitFactorialSum(n):\n",
    "    s=0\n",
    "    t=n;\n",
    "    while n!=0:\n",
    "        r =n % 10\n",
    "        s += fact(r)\n",
    "        n=n//10\n",
    "    if  t == s:\n",
    "            print('yes')\n",
    "    else:\n",
    "            print('No')\n",
    "    return \n",
    "digitFactorialSum(145)\n",
    "digitFactorialSum(123)\n",
    "        "
   ]
  },
  {
   "cell_type": "code",
   "execution_count": null,
   "metadata": {},
   "outputs": [],
   "source": [
    "#Read a number as input\n",
    "# Output  as palindrome or not a palindrome"
   ]
  },
  {
   "cell_type": "code",
   "execution_count": 8,
   "metadata": {},
   "outputs": [
    {
     "name": "stdout",
     "output_type": "stream",
     "text": [
      "yes\n",
      "No\n"
     ]
    }
   ],
   "source": [
    "def palindrome(n):\n",
    "    t=n\n",
    "    r=0\n",
    "    while n!=0:\n",
    "        d=n % 10\n",
    "        r=r*10+d\n",
    "        n=n // 10\n",
    "    if  t==r:\n",
    "            print('yes')\n",
    "    else :\n",
    "            print('No')\n",
    "    return\n",
    "palindrome(121)\n",
    "palindrome(123)    \n",
    "    \n",
    "    \n",
    "    \n",
    "\n",
    "    "
   ]
  },
  {
   "cell_type": "code",
   "execution_count": 10,
   "metadata": {},
   "outputs": [
    {
     "name": "stdout",
     "output_type": "stream",
     "text": [
      "11 12 13 14 15 16 17 18 19 20 21 22 23 24 25 "
     ]
    }
   ],
   "source": [
    "#Function to print the numbers between two limits \n",
    "# Input :11 25\n",
    "# Output : 11 22 13 ..........................25\n",
    "\n",
    "def  printSeries(lb,ub):\n",
    "    for x in range(lb,ub+1):\n",
    "        print(x,end=' ')\n",
    "    return\n",
    "printSeries(11,25)"
   ]
  },
  {
   "cell_type": "code",
   "execution_count": 11,
   "metadata": {},
   "outputs": [
    {
     "name": "stdout",
     "output_type": "stream",
     "text": [
      "500 504 508 512 516 520 "
     ]
    }
   ],
   "source": [
    "#Function to print alternate numbers\n",
    "#[500,520]--- 502, 504,506...........520\n",
    "\n",
    "def alternateNumbers(lb,ub):\n",
    "    for x in range (lb,ub+1,+4):\n",
    "        print(x,end=' ')\n",
    "    return \n",
    "\n",
    "alternateNumbers(500,520)\n",
    "\n"
   ]
  },
  {
   "cell_type": "code",
   "execution_count": null,
   "metadata": {},
   "outputs": [],
   "source": []
  },
  {
   "cell_type": "code",
   "execution_count": null,
   "metadata": {},
   "outputs": [],
   "source": []
  },
  {
   "cell_type": "code",
   "execution_count": null,
   "metadata": {},
   "outputs": [],
   "source": []
  },
  {
   "cell_type": "code",
   "execution_count": null,
   "metadata": {},
   "outputs": [],
   "source": []
  }
 ],
 "metadata": {
  "kernelspec": {
   "display_name": "Python 3",
   "language": "python",
   "name": "python3"
  },
  "language_info": {
   "codemirror_mode": {
    "name": "ipython",
    "version": 3
   },
   "file_extension": ".py",
   "mimetype": "text/x-python",
   "name": "python",
   "nbconvert_exporter": "python",
   "pygments_lexer": "ipython3",
   "version": "3.7.3"
  }
 },
 "nbformat": 4,
 "nbformat_minor": 2
}
