{
 "cells": [
  {
   "cell_type": "markdown",
   "metadata": {},
   "source": [
    "## Strings\n",
    "- Strings\n",
    "- String Slicing\n",
    "- Fundamental programming and Examples with Strings\n"
   ]
  },
  {
   "cell_type": "code",
   "execution_count": 3,
   "metadata": {},
   "outputs": [
    {
     "name": "stdout",
     "output_type": "stream",
     "text": [
      "Python\n",
      "Programming\n",
      "A\n",
      "<class 'str'>\n",
      "<class 'str'>\n",
      "<class 'str'>\n"
     ]
    }
   ],
   "source": [
    "s1='Python'\n",
    "s2=\"Programming\"\n",
    "s3='A'\n",
    "print(s1)\n",
    "print(s2)\n",
    "print(s3)\n",
    "print(type(s1))\n",
    "print(type(s2))\n",
    "print(type(s3))"
   ]
  },
  {
   "cell_type": "markdown",
   "metadata": {},
   "source": [
    "### String Slicing"
   ]
  },
  {
   "cell_type": "code",
   "execution_count": 13,
   "metadata": {},
   "outputs": [
    {
     "name": "stdout",
     "output_type": "stream",
     "text": [
      "P\n",
      "y\n",
      "6\n",
      "n\n",
      "n\n",
      "o\n"
     ]
    }
   ],
   "source": [
    "s1= \"Python\"\n",
    "print(s1[0])\n",
    "print(s1[1])\n",
    "print(len(s1))\n",
    "print(s1[-1])\n",
    "print(s1[len(s1)-1])       #Last character\n",
    "print(s1[-2])"
   ]
  },
  {
   "cell_type": "code",
   "execution_count": 14,
   "metadata": {},
   "outputs": [
    {
     "name": "stdout",
     "output_type": "stream",
     "text": [
      "Py\n",
      "on\n",
      "hon\n",
      "tho\n",
      "ytho\n"
     ]
    }
   ],
   "source": [
    "print(s1[0:2])  #Acessing first two characters\n",
    "print(s1[-2:])  #Acess the last character\n",
    "print(s1[3:])  #Acess the chacracter from 3\n",
    "print(s1[2:5])  #Acesss the characters from 2 to 5\n",
    "print(s1[1:-1])  "
   ]
  },
  {
   "cell_type": "code",
   "execution_count": 15,
   "metadata": {},
   "outputs": [
    {
     "data": {
      "text/plain": [
       "'nohtyP'"
      ]
     },
     "execution_count": 15,
     "metadata": {},
     "output_type": "execute_result"
    }
   ],
   "source": [
    "s1[-1::-1]"
   ]
  },
  {
   "cell_type": "code",
   "execution_count": 16,
   "metadata": {},
   "outputs": [
    {
     "data": {
      "text/plain": [
       "'Pto'"
      ]
     },
     "execution_count": 16,
     "metadata": {},
     "output_type": "execute_result"
    }
   ],
   "source": [
    "#Acess the characters in string alternate\n",
    "# python --Pto\n",
    "s1[::2]"
   ]
  },
  {
   "cell_type": "code",
   "execution_count": 17,
   "metadata": {},
   "outputs": [
    {
     "data": {
      "text/plain": [
       "'nhy'"
      ]
     },
     "execution_count": 17,
     "metadata": {},
     "output_type": "execute_result"
    }
   ],
   "source": [
    "#Acess the alternate character from reverse direction\n",
    "s1[::-2]"
   ]
  },
  {
   "cell_type": "code",
   "execution_count": 18,
   "metadata": {},
   "outputs": [
    {
     "data": {
      "text/plain": [
       "'Ph'"
      ]
     },
     "execution_count": 18,
     "metadata": {},
     "output_type": "execute_result"
    }
   ],
   "source": [
    "s1[::3]"
   ]
  },
  {
   "cell_type": "markdown",
   "metadata": {},
   "source": [
    "### Function with string Operations"
   ]
  },
  {
   "cell_type": "code",
   "execution_count": 19,
   "metadata": {},
   "outputs": [
    {
     "data": {
      "text/plain": [
       "'nohtyp'"
      ]
     },
     "execution_count": 19,
     "metadata": {},
     "output_type": "execute_result"
    }
   ],
   "source": [
    "#reverse of a string\n",
    "def reverseStr(s):\n",
    "    return s[-1::-1]\n",
    "reverseStr('python')"
   ]
  },
  {
   "cell_type": "code",
   "execution_count": 23,
   "metadata": {},
   "outputs": [
    {
     "name": "stdout",
     "output_type": "stream",
     "text": [
      "False\n",
      "True\n"
     ]
    }
   ],
   "source": [
    "# To Check the given string is palindrome or not a palindrome\n",
    "def isPalindrome(s):\n",
    "    if s ==s[-1::-1]:\n",
    "        return True\n",
    "    return False\n",
    "print(isPalindrome('Python'))\n",
    "print(isPalindrome('mom'))"
   ]
  },
  {
   "cell_type": "code",
   "execution_count": 27,
   "metadata": {},
   "outputs": [
    {
     "name": "stdout",
     "output_type": "stream",
     "text": [
      "P T "
     ]
    }
   ],
   "source": [
    "#Fuction to print the uppercase characters\n",
    "#Eample : PyThon --P T\n",
    "\n",
    "#  ASCII\n",
    "#  A-Z  : 65-90\n",
    "# a-z :  97-122\n",
    "# 0-9 : 48-57\n",
    "# space : 32\n",
    "\n",
    "def upperCase(s):\n",
    "    for i in range(len(s)):\n",
    "        if ord(s[i]) >=65 and ord(s[i]) <=90:\n",
    "            print(s[i],end=' ')\n",
    "    return\n",
    "upperCase('PyThon')\n"
   ]
  },
  {
   "cell_type": "code",
   "execution_count": 28,
   "metadata": {},
   "outputs": [
    {
     "data": {
      "text/plain": [
       "97"
      ]
     },
     "execution_count": 28,
     "metadata": {},
     "output_type": "execute_result"
    }
   ],
   "source": [
    "ord('a') #Consider the ascii value of the string \n",
    "# ord () function gives the output as number which is equal to ascii number"
   ]
  },
  {
   "cell_type": "code",
   "execution_count": 47,
   "metadata": {},
   "outputs": [
    {
     "name": "stdout",
     "output_type": "stream",
     "text": [
      "SameCount\n",
      "Programming\n"
     ]
    }
   ],
   "source": [
    "#Function to return the output as  \"SameCount\" or \"Programming\"\n",
    " #Samecount --Lower and upper chars have same count\n",
    "#Programming -- Count of Lower and upper case is not same\n",
    "\n",
    "#Eample #1: PyThOn -- 3 P T O\n",
    "#                                  --  3 y h n \n",
    " \n",
    "# Output :SameCount\n",
    "\n",
    "\n",
    "#Eample #2: PythoN -- 2 P N\n",
    "#                                -- 4 y t h o\n",
    "#Output: Programming\n",
    "\n",
    "\n",
    "def  strCount(s):\n",
    "    t=0\n",
    "    k=0\n",
    "    for i in range(len(s)):\n",
    "        if ord(s[i])>= 65 and ord(s[i])<=90:\n",
    "            t+=1\n",
    "        elif ord(s[i])>=97 and ord(s[i])<=122:\n",
    "            k+=1\n",
    "    if  t==k:\n",
    "            print(\"SameCount\")\n",
    "    else:\n",
    "            print(\"Programming\")\n",
    "                \n",
    "    return\n",
    "strCount('PyThOn')\n",
    "strCount('PythoN')"
   ]
  },
  {
   "cell_type": "code",
   "execution_count": 48,
   "metadata": {},
   "outputs": [
    {
     "name": "stdout",
     "output_type": "stream",
     "text": [
      "1 8 8 9 "
     ]
    }
   ],
   "source": [
    "# Function to Etract the digits from the string\n",
    "# Example #1:\n",
    "   # Input : Appli18cation89\n",
    "    #Output: 1 8 8 9 \n",
    "\n",
    "    \n",
    "def digitExtract(s):\n",
    "    for i in range(len(s)):\n",
    "        if ord(s[i]) >=48 and ord(s[i]) <=57:\n",
    "            print(s[i],end=' ')\n",
    "    return\n",
    "digitExtract('Appli18cation89')"
   ]
  },
  {
   "cell_type": "code",
   "execution_count": 67,
   "metadata": {},
   "outputs": [
    {
     "data": {
      "text/plain": [
       "26"
      ]
     },
     "execution_count": 67,
     "metadata": {},
     "output_type": "execute_result"
    }
   ],
   "source": [
    "# Function to add the digits of the string\n",
    "#Eample #1:\n",
    "    # Input: Appli18cation89\n",
    "    # Output :26 \n",
    "    \n",
    "    \n",
    "    \n",
    "def digitExtractAdd(s):\n",
    "    t=0\n",
    "    for i in range(len(s)):\n",
    "        if ord(s[i]) >=48 and ord(s[i]) <=57:\n",
    "            t= t +(ord(s[i]) - 48)\n",
    "    return t\n",
    "digitExtractAdd('Appli18cation89')"
   ]
  },
  {
   "cell_type": "code",
   "execution_count": 78,
   "metadata": {},
   "outputs": [
    {
     "name": "stdout",
     "output_type": "stream",
     "text": [
      "M A D E "
     ]
    }
   ],
   "source": [
    "#Function to print 2 word in uppercase\n",
    "# Eample #1:\n",
    "#  Input : Python Made Easy\n",
    "# Output : MADE\n",
    "\n",
    "#Eample #2:\n",
    "#Input : Learn Python Strings\n",
    "#Output : PYTHON\n",
    "\n",
    "\n",
    "def uppercase(s):\n",
    "    cntSpace=0\n",
    "    for i in range(len(s)):\n",
    "        if  ord(s[i])==32:\n",
    "            cntSpace +=1\n",
    "        if cntSpace ==1:\n",
    "            if ord(s[i])>= 65 and ord(s[i])<=90:\n",
    "                print(s[i],end =' ')\n",
    "            elif ord(s[i])>= 97 and ord(s[i])<=122:\n",
    "                print(chr(ord(s[i])-32),end=' ')\n",
    "        if cntSpace==2:\n",
    "            break\n",
    "    return\n",
    "uppercase('Python Made Easy')\n"
   ]
  },
  {
   "cell_type": "markdown",
   "metadata": {},
   "source": [
    "## List\n",
    "- One of the Data Structure in Python\n",
    "- Data Structure means to store,sort and search Operations\n",
    "- It's one common Data Structure in python, the items of Lists seperated by comma and enclosed in squared brackets[]\n",
    "  - Example\n",
    "    - list1=[1,2,3,4]\n",
    "    - list2=[\"Gitam\", 1,2,\"Vizag\"]\n",
    "    \n"
   ]
  },
  {
   "cell_type": "code",
   "execution_count": 81,
   "metadata": {},
   "outputs": [
    {
     "name": "stdout",
     "output_type": "stream",
     "text": [
      "[1, 8, 16, 9, 2]\n",
      "1\n",
      "8\n",
      "9\n",
      "2\n",
      "[16, 9, 2]\n"
     ]
    }
   ],
   "source": [
    "li=[1,8,16,9,2]\n",
    "print(li)\n",
    "print(li[0])\n",
    "print(li[1])\n",
    "print(li[-2])\n",
    "print(li[-1])\n",
    "print(li[2:])"
   ]
  },
  {
   "cell_type": "code",
   "execution_count": 82,
   "metadata": {},
   "outputs": [
    {
     "name": "stdout",
     "output_type": "stream",
     "text": [
      "['Gitam', 1582, 2018, 2019, 'Vizag']\n",
      "['Gitam', 1234, 2018, 2019, 'Vizag']\n"
     ]
    }
   ],
   "source": [
    "li=[\"Gitam\", 1582, 2018, 2019,\"Vizag\"]\n",
    "print(li)\n",
    "#update the list item with value using Index\n",
    "li[1]= 1234\n",
    "print(li)"
   ]
  },
  {
   "cell_type": "code",
   "execution_count": 83,
   "metadata": {},
   "outputs": [
    {
     "name": "stdout",
     "output_type": "stream",
     "text": [
      "['Gitam', 1234, 2018, 'Vizag']\n"
     ]
    }
   ],
   "source": [
    "del li[3]\n",
    "print(li)"
   ]
  },
  {
   "cell_type": "code",
   "execution_count": 84,
   "metadata": {},
   "outputs": [
    {
     "name": "stdout",
     "output_type": "stream",
     "text": [
      "5\n",
      "[1, 2, 3, 4, 5, 1, 2, 3, 4, 5]\n",
      "True\n",
      "False\n",
      "1 2 3 4 5 \n",
      "1 2 3 4 5 "
     ]
    }
   ],
   "source": [
    "# Basic List Operation\n",
    "li= [1,2,3,4,5]\n",
    "#Lenght of the list\n",
    "print(len(li))\n",
    "#list Repitation\n",
    "print(li *2)\n",
    "# To know certain item is present in a list or not\n",
    "print(4 in li)\n",
    "print(10 in li)\n",
    "# Access the list items from the iteration\n",
    "# 1 way to define\n",
    "for i in range(len(li)):\n",
    "    print(li[i], end=' ')\n",
    "print()\n",
    "# 2 way to print the list items\n",
    "for i in li:\n",
    "    print(i,end=' ')"
   ]
  },
  {
   "cell_type": "code",
   "execution_count": 85,
   "metadata": {},
   "outputs": [
    {
     "name": "stdout",
     "output_type": "stream",
     "text": [
      "25\n",
      "1\n",
      "56\n",
      "11\n"
     ]
    }
   ],
   "source": [
    "#Basic List Functions\n",
    "li =[1,9,16,25,5]\n",
    "print(max(li))\n",
    "print(min(li))\n",
    "print(sum(li))\n",
    "print(sum(li)//len(li))"
   ]
  },
  {
   "cell_type": "code",
   "execution_count": 108,
   "metadata": {},
   "outputs": [
    {
     "name": "stdout",
     "output_type": "stream",
     "text": [
      "2\n"
     ]
    },
    {
     "data": {
      "text/plain": [
       "[1, 9, 56, 16, 25, 5, 29, 9]"
      ]
     },
     "execution_count": 108,
     "metadata": {},
     "output_type": "execute_result"
    }
   ],
   "source": [
    "#Methods of list\n",
    "li=[1,9,16,25,5]\n",
    "li.append(29)\n",
    "li.insert(2,56)\n",
    "li.append(9)\n",
    "li.count(9)\n",
    "print(li.index(56))\n",
    "li"
   ]
  },
  {
   "cell_type": "code",
   "execution_count": 110,
   "metadata": {},
   "outputs": [
    {
     "data": {
      "text/plain": [
       "[1, 5, 9, 9, 16, 25, 29]"
      ]
     },
     "execution_count": 110,
     "metadata": {},
     "output_type": "execute_result"
    }
   ],
   "source": [
    "#Method of List\n",
    "li.sort()\n",
    "li.pop()\n",
    "li"
   ]
  },
  {
   "cell_type": "code",
   "execution_count": 111,
   "metadata": {},
   "outputs": [
    {
     "data": {
      "text/plain": [
       "[1, 9, 9, 16, 25, 29]"
      ]
     },
     "execution_count": 111,
     "metadata": {},
     "output_type": "execute_result"
    }
   ],
   "source": [
    "li.pop(1)\n",
    "li"
   ]
  },
  {
   "cell_type": "code",
   "execution_count": 115,
   "metadata": {},
   "outputs": [
    {
     "data": {
      "text/plain": [
       "[1, 1, 1, 1, 1, 6, 6, 6, 6, 9, 9, 16, 19, 19, 19, 19, 25, 25, 25, 25, 25, 29]"
      ]
     },
     "execution_count": 115,
     "metadata": {},
     "output_type": "execute_result"
    }
   ],
   "source": [
    "li1=[1,6,19,25]\n",
    "li.extend(li1)\n",
    "li.reverse()\n",
    "li.sort()\n",
    "li"
   ]
  },
  {
   "cell_type": "code",
   "execution_count": 119,
   "metadata": {},
   "outputs": [
    {
     "name": "stdout",
     "output_type": "stream",
     "text": [
      "45\n",
      "22\n"
     ]
    }
   ],
   "source": [
    "#Function to return the large number from the list\n",
    "def largeNumber(li):\n",
    "    li.sort()\n",
    "    return li[-1]\n",
    "def genericLarge(li,n):\n",
    "    li.sort()\n",
    "    return li[-n]\n",
    "li= [19,1,25,6,9,45,22]\n",
    "print(largeNumber(li))\n",
    "print(genericLarge(li,3))"
   ]
  },
  {
   "cell_type": "code",
   "execution_count": 121,
   "metadata": {},
   "outputs": [
    {
     "name": "stdout",
     "output_type": "stream",
     "text": [
      "1\n",
      "19\n"
     ]
    }
   ],
   "source": [
    "#Function to find the least and generic least number from list\n",
    "def  leastNumber(li):\n",
    "    li.sort()\n",
    "    return  li[0]\n",
    "def genericLeastNumber(li,n):\n",
    "    li.sort()\n",
    "    return li[n-1]\n",
    "li =[19,1,25,6,9,45,22]\n",
    "print(leastNumber(li))\n",
    "print(genericLeastNumber(li,4))"
   ]
  },
  {
   "cell_type": "markdown",
   "metadata": {},
   "source": [
    "### File Handling in Python\n",
    "- File - Document which contains some information and resides on permanaent devices\n",
    "- Different types of File -  .txt, .pdf, .doc, .ppf and etc..\n",
    "- Input - Keyboard\n",
    "- Output -File System"
   ]
  },
  {
   "cell_type": "code",
   "execution_count": 123,
   "metadata": {},
   "outputs": [
    {
     "name": "stdout",
     "output_type": "stream",
     "text": [
      "File is successfully created and data is inserted\n"
     ]
    }
   ],
   "source": [
    "# Function to create file and write some data to the file\n",
    "# Mode --w(It creates the file and write to some data)\n",
    "def createFile(filename):\n",
    "    f =open(filename,'w')\n",
    "    for i in range(10):\n",
    "        f.write('This is %d line \\n' % i)\n",
    "    print('File is successfully created and data is inserted')\n",
    "    return \n",
    "createFile('data.txt')"
   ]
  },
  {
   "cell_type": "code",
   "execution_count": 124,
   "metadata": {},
   "outputs": [
    {
     "data": {
      "text/plain": [
       "'C:\\\\Users\\\\user\\\\Desktop\\\\Problem Solving & Programming'"
      ]
     },
     "execution_count": 124,
     "metadata": {},
     "output_type": "execute_result"
    }
   ],
   "source": [
    "pwd"
   ]
  },
  {
   "cell_type": "code",
   "execution_count": null,
   "metadata": {},
   "outputs": [],
   "source": [
    "# overwriting the data\n",
    "def createFile(filename):\n",
    "    f=open(filename,'w')\n",
    "    f.write('Python Programming')\n",
    "    return\n",
    "createFile('data.txt')"
   ]
  },
  {
   "cell_type": "code",
   "execution_count": 126,
   "metadata": {},
   "outputs": [
    {
     "name": "stdout",
     "output_type": "stream",
     "text": [
      "Program Completed Succesfully\n"
     ]
    }
   ],
   "source": [
    "\n",
    "# Mode --a (if the file is not available it creates)\n",
    "def appendMode(filename):\n",
    "    f = open(filename,'a')\n",
    "    f.write('Gitam Vizag\\n')\n",
    "    f.write('Python Programming\\n')\n",
    "    print('Program Completed Succesfully')\n",
    "    return \n",
    "appendMode('data.txt')"
   ]
  },
  {
   "cell_type": "code",
   "execution_count": 127,
   "metadata": {},
   "outputs": [
    {
     "name": "stdout",
     "output_type": "stream",
     "text": [
      "This is 0 line \n",
      "This is 1 line \n",
      "This is 2 line \n",
      "This is 3 line \n",
      "This is 4 line \n",
      "This is 5 line \n",
      "This is 6 line \n",
      "This is 7 line \n",
      "This is 8 line \n",
      "This is 9 line \n",
      "Gitam Vizag\n",
      "Python Programming\n",
      "\n"
     ]
    }
   ],
   "source": [
    "#Function to read the file\n",
    "def readFileData(filename):\n",
    "    f = open(filename,'r')\n",
    "    if f.mode =='r':\n",
    "        a = f.read()\n",
    "        print(a)\n",
    "    f.close()\n",
    "    return \n",
    "readFileData('Data.txt')"
   ]
  },
  {
   "cell_type": "code",
   "execution_count": 129,
   "metadata": {},
   "outputs": [
    {
     "name": "stdout",
     "output_type": "stream",
     "text": [
      "['python', 'programming']\n",
      "['pyt', 'hon', 'progra', 'm', 'mi', 'ng']\n"
     ]
    }
   ],
   "source": [
    "# Analysis on the file --Word count, Char count, Digit count\n",
    "s1 = \"python programming\"\n",
    "print(s1.split())\n",
    "s2 =\"pyt hon progra m mi ng\"\n",
    "print(s2.split())"
   ]
  },
  {
   "cell_type": "code",
   "execution_count": 130,
   "metadata": {},
   "outputs": [
    {
     "data": {
      "text/plain": [
       "44"
      ]
     },
     "execution_count": 130,
     "metadata": {},
     "output_type": "execute_result"
    }
   ],
   "source": [
    "# Word Count --Input File\n",
    "def wordCount(filename):\n",
    "    with open(filename, 'r') as f:\n",
    "        if f.mode =='r':\n",
    "            a = f.read()\n",
    "            li = a.split()\n",
    "    return len(li)\n",
    "wordCount('data.txt')"
   ]
  },
  {
   "cell_type": "code",
   "execution_count": 136,
   "metadata": {},
   "outputs": [
    {
     "data": {
      "text/plain": [
       "10"
      ]
     },
     "execution_count": 136,
     "metadata": {},
     "output_type": "execute_result"
    }
   ],
   "source": [
    "# Specify the word count from a file\n",
    "#Eample #1:\n",
    "# Input --This\n",
    "#Output -- 10\n",
    "\n",
    "#Example #2:\n",
    "#Input -- Gitam\n",
    "#Output --1\n",
    "\n",
    "def  wordCount(filename, word):\n",
    "    with open(filename, 'r') as f:\n",
    "        if f.mode == 'r':\n",
    "            a = f.read()\n",
    "            li= a.split()\n",
    "    return li.count(word)\n",
    "wordCount('data.txt','This')"
   ]
  },
  {
   "cell_type": "code",
   "execution_count": 139,
   "metadata": {},
   "outputs": [
    {
     "data": {
      "text/plain": [
       "191"
      ]
     },
     "execution_count": 139,
     "metadata": {},
     "output_type": "execute_result"
    }
   ],
   "source": [
    "#Function to find the character count from the input file\n",
    "def charCount(filename):\n",
    "    with open(filename,'r') as f:\n",
    "        if f.mode == 'r':\n",
    "            a = f.read()\n",
    "            li =list(a) \n",
    "    return  len(li)\n",
    "charCount('data.txt')"
   ]
  },
  {
   "cell_type": "code",
   "execution_count": 141,
   "metadata": {},
   "outputs": [
    {
     "data": {
      "text/plain": [
       "13"
      ]
     },
     "execution_count": 141,
     "metadata": {},
     "output_type": "execute_result"
    }
   ],
   "source": [
    "# Find no of lines or rows in the given input  file\n",
    "def findLineCount(filename):\n",
    "    with open(filename, 'r') as f:\n",
    "        if f.mode =='r':\n",
    "            a = f.read()\n",
    "            li =a.split('\\n')\n",
    "    return len(li)\n",
    "findLineCount('data.txt')"
   ]
  },
  {
   "cell_type": "code",
   "execution_count": 3,
   "metadata": {},
   "outputs": [
    {
     "data": {
      "text/plain": [
       "'Upper Case : 14 Lower Case : 113 Digit : 10'"
      ]
     },
     "execution_count": 3,
     "metadata": {},
     "output_type": "execute_result"
    }
   ],
   "source": [
    "#Function to find the Upper and Lowwer case characters\n",
    "\n",
    "def caseCount(filename):\n",
    "    cntUpper = 0\n",
    "    cntLower = 0\n",
    "    cntDigit = 0\n",
    "    with open(filename,'r') as f:\n",
    "        if f.mode == 'r':\n",
    "            a = f.read()\n",
    "            li = list(a)\n",
    "    for i in range(len(li)):\n",
    "        if ord(li[i]) >= 65 and ord(li[i]) <= 90:\n",
    "            cntUpper += 1\n",
    "        elif ord(li[i]) >= 97 and ord(li[i]) <= 122:\n",
    "            cntLower += 1\n",
    "        elif ord(li[i]) >= 48 and ord(li[i]) <= 57:\n",
    "            cntDigit += 1\n",
    "    output = 'Upper Case : {0} Lower Case : {1} Digit : {2}'.format(cntUpper,cntLower,cntDigit)\n",
    "    return output\n",
    "caseCount('data.txt')"
   ]
  },
  {
   "cell_type": "code",
   "execution_count": 1,
   "metadata": {},
   "outputs": [
    {
     "ename": "NameError",
     "evalue": "name 'math' is not defined",
     "output_type": "error",
     "traceback": [
      "\u001b[1;31m---------------------------------------------------------------------------\u001b[0m",
      "\u001b[1;31mNameError\u001b[0m                                 Traceback (most recent call last)",
      "\u001b[1;32m<ipython-input-1-31636d749164>\u001b[0m in \u001b[0;36m<module>\u001b[1;34m\u001b[0m\n\u001b[1;32m----> 1\u001b[1;33m \u001b[0mprint\u001b[0m\u001b[1;33m(\u001b[0m\u001b[0mmath\u001b[0m\u001b[1;33m.\u001b[0m\u001b[0mfabs\u001b[0m\u001b[1;33m(\u001b[0m\u001b[1;36m45\u001b[0m\u001b[1;33m)\u001b[0m\u001b[1;33m)\u001b[0m\u001b[1;33m\u001b[0m\u001b[1;33m\u001b[0m\u001b[0m\n\u001b[0m",
      "\u001b[1;31mNameError\u001b[0m: name 'math' is not defined"
     ]
    }
   ],
   "source": []
  },
  {
   "cell_type": "code",
   "execution_count": null,
   "metadata": {},
   "outputs": [],
   "source": []
  },
  {
   "cell_type": "code",
   "execution_count": null,
   "metadata": {},
   "outputs": [],
   "source": []
  },
  {
   "cell_type": "code",
   "execution_count": null,
   "metadata": {},
   "outputs": [],
   "source": []
  }
 ],
 "metadata": {
  "kernelspec": {
   "display_name": "Python 3",
   "language": "python",
   "name": "python3"
  },
  "language_info": {
   "codemirror_mode": {
    "name": "ipython",
    "version": 3
   },
   "file_extension": ".py",
   "mimetype": "text/x-python",
   "name": "python",
   "nbconvert_exporter": "python",
   "pygments_lexer": "ipython3",
   "version": "3.7.3"
  }
 },
 "nbformat": 4,
 "nbformat_minor": 2
}
